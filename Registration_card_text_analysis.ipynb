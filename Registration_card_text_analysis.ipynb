{
  "nbformat": 4,
  "nbformat_minor": 0,
  "metadata": {
    "colab": {
      "name": "Registration card text analysis.ipynb",
      "version": "0.3.2",
      "provenance": [],
      "collapsed_sections": []
    },
    "kernelspec": {
      "name": "python3",
      "display_name": "Python 3"
    },
    "accelerator": "GPU"
  },
  "cells": [
    {
      "cell_type": "code",
      "metadata": {
        "id": "Gqg5zSdVrTmD",
        "colab_type": "code",
        "outputId": "366e516a-c4e6-44d7-c108-35648ce76d4f",
        "colab": {
          "base_uri": "https://localhost:8080/",
          "height": 35
        }
      },
      "source": [
        "from google.colab import drive\n",
        "drive.mount('/content/drive')"
      ],
      "execution_count": 0,
      "outputs": [
        {
          "output_type": "stream",
          "text": [
            "Drive already mounted at /content/drive; to attempt to forcibly remount, call drive.mount(\"/content/drive\", force_remount=True).\n"
          ],
          "name": "stdout"
        }
      ]
    },
    {
      "cell_type": "markdown",
      "metadata": {
        "id": "wZNQTS9E7_m1",
        "colab_type": "text"
      },
      "source": [
        "lISTING OUT ALL THE IMAGES "
      ]
    },
    {
      "cell_type": "code",
      "metadata": {
        "id": "YmJqQvoarU7F",
        "colab_type": "code",
        "colab": {}
      },
      "source": [
        "import os\n",
        "image_list_dir = os.listdir(\"../content/drive/My Drive/image\")"
      ],
      "execution_count": 0,
      "outputs": []
    },
    {
      "cell_type": "code",
      "metadata": {
        "id": "8hwuwZjRrqwl",
        "colab_type": "code",
        "colab": {}
      },
      "source": [
        "newi_list_dir = [os.path.join(\"../content/drive/My Drive/image\", bname) for bname in image_list_dir]"
      ],
      "execution_count": 0,
      "outputs": []
    },
    {
      "cell_type": "markdown",
      "metadata": {
        "id": "ZpPaohvx8Mvm",
        "colab_type": "text"
      },
      "source": [
        "# CREATING AWS CLIENT MULTIPLE TIMES .SO THAT PROVISION ERROR MAY NOT OCCUR"
      ]
    },
    {
      "cell_type": "code",
      "metadata": {
        "id": "eUU_f6TGrwwq",
        "colab_type": "code",
        "colab": {}
      },
      "source": [
        "import boto3\n",
        "\n",
        "client = boto3.client(\n",
        "         service_name='textract',\n",
        "         aws_access_key_id = '',\n",
        "         aws_secret_access_key='',\n",
        "         region_name= 'us-east-2')"
      ],
      "execution_count": 0,
      "outputs": []
    },
    {
      "cell_type": "code",
      "metadata": {
        "id": "MOySlxrJpy2e",
        "colab_type": "code",
        "colab": {}
      },
      "source": [
        "\n",
        "import boto3\n",
        "\n",
        "client1 = boto3.client(\n",
        "         service_name='textract',\n",
        "         aws_access_key_id = '',\n",
        "         aws_secret_access_key='',\n",
        "         region_name= 'us-east-2')"
      ],
      "execution_count": 0,
      "outputs": []
    },
    {
      "cell_type": "code",
      "metadata": {
        "id": "vKfTg4pIcV2j",
        "colab_type": "code",
        "colab": {}
      },
      "source": [
        "\n",
        "import boto3\n",
        "\n",
        "client2 = boto3.client(\n",
        "         service_name='textract',\n",
        "         aws_access_key_id = '',\n",
        "         aws_secret_access_key='',\n",
        "         region_name= 'us-east-2')"
      ],
      "execution_count": 0,
      "outputs": []
    },
    {
      "cell_type": "code",
      "metadata": {
        "id": "VCwW6h3zjvmu",
        "colab_type": "code",
        "colab": {}
      },
      "source": [
        "\n",
        "import boto3\n",
        "\n",
        "client3 = boto3.client(\n",
        "         service_name='textract',\n",
        "         aws_access_key_id = '',\n",
        "         aws_secret_access_key='',\n",
        "         region_name= 'us-east-2')"
      ],
      "execution_count": 0,
      "outputs": []
    },
    {
      "cell_type": "code",
      "metadata": {
        "id": "z4o6XoPFyBAZ",
        "colab_type": "code",
        "colab": {}
      },
      "source": [
        "\n",
        "import boto3\n",
        "\n",
        "client4 = boto3.client(\n",
        "         service_name='textract',\n",
        "         aws_access_key_id ='',\n",
        "         aws_secret_access_key='',\n",
        "         region_name= 'us-east-2')"
      ],
      "execution_count": 0,
      "outputs": []
    },
    {
      "cell_type": "markdown",
      "metadata": {
        "id": "1d3Di1oE9vOf",
        "colab_type": "text"
      },
      "source": [
        "# IMPORT LIBRARY AND CREATING FUNCTIONS"
      ]
    },
    {
      "cell_type": "code",
      "metadata": {
        "id": "AEUPfqF3bN77",
        "colab_type": "code",
        "colab": {}
      },
      "source": [
        "import re\n",
        "from datetime import *\n",
        "from datetime import datetime,date"
      ],
      "execution_count": 0,
      "outputs": []
    },
    {
      "cell_type": "code",
      "metadata": {
        "id": "U34ux3VQUHci",
        "colab_type": "code",
        "colab": {}
      },
      "source": [
        "def num(s):\n",
        "  if any(list(i.isdigit() for i in s)) == True and any(list(j.isalpha() for j in s)) == True:\n",
        "    return(True)\n",
        "  else:\n",
        "    return(False)"
      ],
      "execution_count": 0,
      "outputs": []
    },
    {
      "cell_type": "code",
      "metadata": {
        "id": "sYzCkq7Vue2J",
        "colab_type": "code",
        "colab": {}
      },
      "source": [
        "def chesis(e,f):\n",
        "  for i in range(len(x)):\n",
        "    \n",
        "    if any(list(k in e[i] for k in ['Chesis','CH','Ch','CHESIS','chesis'])):\n",
        "      if any(list(c in e[i] for c in ['No','.'])) == True and num((e[i].split('No')[-1].split('.')[-1])) == True:\n",
        "        return(e[i].split('No')[-1].split('.')[-1])\n",
        "      elif any(list(c in e[i] for c in ['NO','.'])) == True and num((e[i].split('NO')[-1].split('.')[-1])) == True:\n",
        "        return(e[i].split('NO')[-1].split('.')[-1])\n",
        "      elif any(list(c in e[i] for c in ['no','.'])) == True and num((e[i].split('no')[-1].split('.')[-1])) == True:\n",
        "        return(x[i].split('no')[-1].split('.')[-1])\n",
        "      elif any(list(c in e[i] for c in ['NO',':'])) == True and num((e[i].split('NO')[-1].split(':')[-1])) == True:\n",
        "        return(x[i].split('NO')[-1].split(':')[-1])\n",
        "      elif any(list(c in e[i] for c in ['No',':'])) == True and num((e[i].split('No')[-1].split(':')[-1])) == True:\n",
        "        return(x[i].split('No')[-1].split(':')[-1])\n",
        "      elif any(list(c in e[i] for c in ['no',':'])) == True and num((e[i].split('no')[-1].split(':')[-1])) == True:\n",
        "        return(e[i].split('no')[-1].split(':')[-1])\n",
        "    \n",
        "    else:\n",
        "      for text in f:\n",
        "        if len(text) == 17 and num(text) == True:         \n",
        "          return(text)\n",
        "        elif len(text) == 16 and num(text) == True:         \n",
        "          return(text)\n"
      ],
      "execution_count": 0,
      "outputs": []
    },
    {
      "cell_type": "code",
      "metadata": {
        "id": "JyOaRKjo6ckb",
        "colab_type": "code",
        "colab": {}
      },
      "source": [
        "def Registration(a,b):\n",
        "  for i in range(len(a)):\n",
        "    \n",
        "    if any(list(k in a[i] for k in ['Registration','REGN','Regn','Rn','REGD','Regd','Rd','RN','REGISTRATION'])):\n",
        "      if any(list(c in a[i] for c in ['No','.'])) == True and num((a[i].split('No')[-1].split('.')[-1])) == True:\n",
        "        return(a[i].split('No')[-1].split('.')[-1])\n",
        "      elif any(list(c in a[i] for c in ['NO','.'])) == True and num((a[i].split('NO')[-1].split('.')[-1])) == True:\n",
        "        return(a[i].split('NO')[-1].split('.')[-1])\n",
        "      elif any(list(c in a[i] for c in ['no','.'])) == True and num((a[i].split('no')[-1].split('.')[-1])) == True:\n",
        "        return(a[i].split('no')[-1].split('.')[-1])\n",
        "      elif any(list(c in a[i] for c in ['NO',':'])) == True and num((a[i].split('NO')[-1].split(':')[-1])) == True:\n",
        "        return(a[i].split('NO')[-1].split(':')[-1])\n",
        "      elif any(list(c in a[i] for c in ['No',':'])) == True and num((a[i].split('No')[-1].split(':')[-1])) == True:\n",
        "        return(a[i].split('No')[-1].split(':')[-1])\n",
        "      elif any(list(c in a[i] for c in ['no',':'])) == True and num((a[i].split('no')[-1].split(':')[-1])) == True:\n",
        "        return(a[i].split('no')[-1].split(':')[-1])   \n",
        "    \n",
        "    else:\n",
        "      for text in b:\n",
        "        if len(text) == 10 and num(text) == True:       \n",
        "          return(text)\n",
        "        elif len(text) == 11 and num(text) == True:\n",
        "          return(text)\n",
        "        \n"
      ],
      "execution_count": 0,
      "outputs": []
    },
    {
      "cell_type": "code",
      "metadata": {
        "id": "v9HXZAc2bTCa",
        "colab_type": "code",
        "colab": {}
      },
      "source": [
        "def date_finder(z):\n",
        "  date_dash = []\n",
        "  date_slash = []\n",
        "  for i in z:\n",
        "    if re.search(r'\\d{2}/\\d{2}/\\d{4}', i):\n",
        "      date_slash.append(re.search(r'\\d{2}/\\d{2}/\\d{4}', i).group())\n",
        "    elif re.search(r'\\d{2}-\\d{2}-\\d{4}',i):\n",
        "      date_dash.append(re.search(r'\\d{2}-\\d{2}-\\d{4}', i).group())\n",
        "    elif re.search(r'\\d{2}-\\d{4}',i):\n",
        "      date_dash.append(re.search(r'\\d{2}-\\d{4}', i).group())\n",
        "    elif re.search(r'\\d{2}/\\d{4}',i):\n",
        "      date_slash.append(re.search(r'\\d{2}/\\d{4}', i).group())\n",
        "\n",
        "  if len(date_slash)>0:\n",
        "    return(date_slash,1)\n",
        "  elif (len(date_dash))>0:\n",
        "    return(date_dash,2)\n",
        "  else:\n",
        "    return([],3)"
      ],
      "execution_count": 0,
      "outputs": []
    },
    {
      "cell_type": "markdown",
      "metadata": {
        "id": "zZovwA5494sM",
        "colab_type": "text"
      },
      "source": [
        "# **MASTER CODE WHERE ALL PREVIOUSLY CREATED FUNCTION ARE CALLED AND COMPUTED THE DESIRED OUTPUT.MASTER CODE IS IN THREE PART TO AVOID PROVITION ERROR.**THE TOTAL DATASET IS BEING DEVIDED INTO THREE PARTS AND LOOPING ACCORDINGLY"
      ]
    },
    {
      "cell_type": "code",
      "metadata": {
        "id": "R35rPcLvr6Aw",
        "colab_type": "code",
        "outputId": "07ede321-db57-440f-dd85-675aa76043f3",
        "colab": {
          "base_uri": "https://localhost:8080/",
          "height": 290
        }
      },
      "source": [
        "chesi1 = []\n",
        "regis1 = []\n",
        "reg_upto1 = []\n",
        "reg_from1 = []\n",
        "manu1 = []\n",
        "\n",
        "for i in range(15):\n",
        "  f = newi_list_dir[i]\n",
        "  with open(f, 'rb') as file:\n",
        "    img_test = file.read()\n",
        "    bytes_test = bytearray(img_test)\n",
        "    print('Image loaded', f)\n",
        "  response = client.analyze_document(Document={'Bytes': bytes_test}, FeatureTypes=[\"TABLES\",'FORMS'])\n",
        "  blocks=response['Blocks']\n",
        "  \n",
        "  x = []\n",
        "  for block in blocks:\n",
        "    if block['BlockType']=='LINE':\n",
        "      x.append(block['Text'])\n",
        "  \n",
        "  y = []\n",
        "  for block in blocks:\n",
        "    if block['BlockType']=='WORD':\n",
        "      y.append(block['Text'])\n",
        "\n",
        "  chesi1.append(chesis(x,y))\n",
        "  regis1.append(Registration(x,y))\n",
        "  \n",
        "     \n",
        "  \n",
        "  k,a= date_finder(y)\n",
        "  l = []\n",
        "  if a == 1:\n",
        "    if len(k) == 3:\n",
        "      for i in range(len(k)):\n",
        "        if len(k[i])>7:\n",
        "          d1, m1, y1 = [int(x) for x in k[i].split('/')]\n",
        "          l.append(date(y1, m1, d1))\n",
        "        else:\n",
        "          m2, y2 = [int(x) for x in k[i].split('/')]\n",
        "          d = 1\n",
        "          l.append(date(y2, m2, d))\n",
        "      l.sort()\n",
        "      reg_upto1.append(l[-1].strftime('%d/%m/%Y'))\n",
        "      reg_from1.append(l[1].strftime('%d/%m/%Y'))\n",
        "      manu1.append(l[0].strftime('%d/%m/%Y'))\n",
        "\n",
        "    elif len(k) == 2:\n",
        "      for i in range(len(k)):\n",
        "        if len(k[i])>7:\n",
        "          d1, m1, y1 = [int(x) for x in k[i].split('/')]\n",
        "          l.append(date(y1, m1, d1))\n",
        "        else:\n",
        "          m2, y2 = [int(x) for x in k[i].split('/')]\n",
        "          d = 1\n",
        "          l.append(date(y2, m2, d))\n",
        "      l.sort() \n",
        "      if l[1]>datetime.today().date():\n",
        "        reg_upto1.append(l[1].strftime('%d/%m/%Y'))\n",
        "        reg_from1.append(l[0].strftime('%d/%m/%Y'))\n",
        "        manu1.append(None)\n",
        "      else:\n",
        "        reg_upto1.append('None')\n",
        "        reg_from1.append(l[1].strftime('%d/%m/%Y'))\n",
        "        manu1.append(l[0].strftime('%d/%m/%Y'))\n",
        "    else:\n",
        "      for i in range(len(k)):\n",
        "        if len(k[i])>7:\n",
        "          d1, m1, y1 = [int(x) for x in k[i].split('/')]\n",
        "          l.append(date(y1, m1, d1))\n",
        "        else:\n",
        "          m2, y2 = [int(x) for x in k[i].split('/')]\n",
        "          d = 1\n",
        "          l.append(date(y2, m2, d))\n",
        "      reg_upto1.append('None')\n",
        "      reg_from1.append('None')\n",
        "      manu1.append(l[0].strftime('%d/%m/%Y'))\n",
        "  \n",
        "  elif a == 2:\n",
        "    if len(k) == 3:\n",
        "      for i in range(len(k)):\n",
        "        if len(k[i])>7:\n",
        "          d1, m1, y1 = [int(x) for x in k[i].split('-')]\n",
        "          l.append(date(y1, m1, d1))\n",
        "        else:\n",
        "          m2, y2 = [int(x) for x in k[i].split('-')]\n",
        "          d = 1\n",
        "          l.append(date(y2, m2, d))\n",
        "      l.sort()\n",
        "      reg_upto1.append(l[-1].strftime('%d/%m/%Y'))\n",
        "      reg_from1.append(l[1].strftime('%d/%m/%Y'))\n",
        "      manu1.append(l[0].strftime('%d/%m/%Y'))\n",
        "\n",
        "    elif len(k) == 2:\n",
        "      for i in range(len(k)):\n",
        "        if len(k[i])>7:\n",
        "          d1, m1, y1 = [int(x) for x in k[i].split('-')]\n",
        "          l.append(date(y1, m1, d1))\n",
        "        else:\n",
        "          m2, y2 = [int(x) for x in k[i].split('-')]\n",
        "          d = 1\n",
        "          l.append(date(y2, m2, d))\n",
        "      l.sort() \n",
        "      if l[1]>datetime.today().date():\n",
        "        reg_upto1.append(l[1].strftime('%d/%m/%Y'))\n",
        "        reg_from1.append(l[0].strftime('%d/%m/%Y'))\n",
        "        manu1.append(None)\n",
        "      else:\n",
        "        reg_upto1.append('None')\n",
        "        reg_from1.append(l[1].strftime('%d/%m/%Y'))\n",
        "        manu1.append(l[0].strftime('%d/%m/%Y'))\n",
        "    else:\n",
        "      for i in range(len(k)):\n",
        "        if len(k[i])>7:\n",
        "          d1, m1, y1 = [int(x) for x in k[i].split('-')]\n",
        "          l.append(date(y1, m1, d1))\n",
        "        else:\n",
        "          m2, y2 = [int(x) for x in k[i].split('-')]\n",
        "          d = 1\n",
        "          l.append(date(y2, m2, d))\n",
        "      reg_upto1.append('None')\n",
        "      reg_from1.append('None')\n",
        "      manu1.append(l[0].strftime('%d/%m/%Y'))\n",
        "  elif a == 3:\n",
        "    reg_upto1.append('None')\n",
        "    reg_from1.append('None')\n",
        "    manu1.append('None')   "
      ],
      "execution_count": 0,
      "outputs": [
        {
          "output_type": "stream",
          "text": [
            "Image loaded ../content/drive/My Drive/image/txt_mudit_b8_1_545.jpg\n",
            "Image loaded ../content/drive/My Drive/image/txt_mudit_b8_1_571.jpg\n",
            "Image loaded ../content/drive/My Drive/image/txt_mudit_b8_1_808.jpg\n",
            "Image loaded ../content/drive/My Drive/image/txt_mudit_b8_1_546.jpg\n",
            "Image loaded ../content/drive/My Drive/image/txt_mudit_b8_1_513.jpg\n",
            "Image loaded ../content/drive/My Drive/image/txt_mudit_b8_1_554.jpg\n",
            "Image loaded ../content/drive/My Drive/image/txt_mudit_b8_1_573.jpg\n",
            "Image loaded ../content/drive/My Drive/image/txt_mudit_b8_1_807.jpg\n",
            "Image loaded ../content/drive/My Drive/image/txt_mudit_b8_1_574.jpg\n",
            "Image loaded ../content/drive/My Drive/image/txt_mudit_b8_1_555.jpg\n",
            "Image loaded ../content/drive/My Drive/image/txt_mudit_b8_1_742.jpg\n",
            "Image loaded ../content/drive/My Drive/image/txt_mudit_b8_1_741.jpg\n",
            "Image loaded ../content/drive/My Drive/image/txt_mudit_b8_1_740.jpg\n",
            "Image loaded ../content/drive/My Drive/image/txt_mudit_b8_1_806.jpg\n",
            "Image loaded ../content/drive/My Drive/image/txt_mudit_b8_1_854.jpg\n"
          ],
          "name": "stdout"
        }
      ]
    },
    {
      "cell_type": "code",
      "metadata": {
        "id": "L2KcJen_lkCr",
        "colab_type": "code",
        "outputId": "6ad9cec0-3aa0-4762-f7c6-44362862bfd9",
        "colab": {
          "base_uri": "https://localhost:8080/",
          "height": 290
        }
      },
      "source": [
        "chesi2 = []\n",
        "regis2 = []\n",
        "reg_upto2 = []\n",
        "reg_from2 = []\n",
        "manu2 = []\n",
        "\n",
        "for i in range(15,30):\n",
        "  f = newi_list_dir[i]\n",
        "  with open(f, 'rb') as file:\n",
        "    img_test = file.read()\n",
        "    bytes_test = bytearray(img_test)\n",
        "    print('Image loaded', f)\n",
        "  response = client.analyze_document(Document={'Bytes': bytes_test}, FeatureTypes=[\"TABLES\",'FORMS'])\n",
        "  blocks=response['Blocks']\n",
        "  \n",
        "  x = []\n",
        "  for block in blocks:\n",
        "    if block['BlockType']=='LINE':\n",
        "      x.append(block['Text'])\n",
        "  \n",
        "  y = []\n",
        "  for block in blocks:\n",
        "    if block['BlockType']=='WORD':\n",
        "      y.append(block['Text'])\n",
        "\n",
        "  chesi2.append(chesis(x,y))\n",
        "  regis2.append(Registration(x,y))\n",
        "  \n",
        "     \n",
        "  \n",
        "  k,a= date_finder(y)\n",
        "  l = []\n",
        "  if a == 1:\n",
        "    if len(k) == 3:\n",
        "      for i in range(len(k)):\n",
        "        if len(k[i])>7:\n",
        "          d1, m1, y1 = [int(x) for x in k[i].split('/')]\n",
        "          l.append(date(y1, m1, d1))\n",
        "        else:\n",
        "          m2, y2 = [int(x) for x in k[i].split('/')]\n",
        "          d = 1\n",
        "          l.append(date(y2, m2, d))\n",
        "      l.sort()\n",
        "      reg_upto2.append(l[-1].strftime('%d/%m/%Y'))\n",
        "      reg_from2.append(l[1].strftime('%d/%m/%Y'))\n",
        "      manu2.append(l[0].strftime('%d/%m/%Y'))\n",
        "\n",
        "    elif len(k) == 2:\n",
        "      for i in range(len(k)):\n",
        "        if len(k[i])>7:\n",
        "          d1, m1, y1 = [int(x) for x in k[i].split('/')]\n",
        "          l.append(date(y1, m1, d1))\n",
        "        else:\n",
        "          m2, y2 = [int(x) for x in k[i].split('/')]\n",
        "          d = 1\n",
        "          l.append(date(y2, m2, d))\n",
        "      l.sort() \n",
        "      if l[1]>datetime.today().date():\n",
        "        reg_upto2.append(l[1].strftime('%d/%m/%Y'))\n",
        "        reg_from2.append(l[0].strftime('%d/%m/%Y'))\n",
        "        manu2.append(None)\n",
        "      else:\n",
        "        reg_upto2.append('None')\n",
        "        reg_from2.append(l[1].strftime('%d/%m/%Y'))\n",
        "        manu2.append(l[0].strftime('%d/%m/%Y'))\n",
        "    else:\n",
        "      for i in range(len(k)):\n",
        "        if len(k[i])>7:\n",
        "          d1, m1, y1 = [int(x) for x in k[i].split('/')]\n",
        "          l.append(date(y1, m1, d1))\n",
        "        else:\n",
        "          m2, y2 = [int(x) for x in k[i].split('/')]\n",
        "          d = 1\n",
        "          l.append(date(y2, m2, d))\n",
        "      reg_upto2.append('None')\n",
        "      reg_from2.append('None')\n",
        "      manu2.append(l[0].strftime('%d/%m/%Y'))\n",
        "  \n",
        "  elif a == 2:\n",
        "    if len(k) == 3:\n",
        "      for i in range(len(k)):\n",
        "        if len(k[i])>7:\n",
        "          d1, m1, y1 = [int(x) for x in k[i].split('-')]\n",
        "          l.append(date(y1, m1, d1))\n",
        "        else:\n",
        "          m2, y2 = [int(x) for x in k[i].split('-')]\n",
        "          d = 1\n",
        "          l.append(date(y2, m2, d))\n",
        "      l.sort()\n",
        "      reg_upto2.append(l[-1].strftime('%d/%m/%Y'))\n",
        "      reg_from2.append(l[1].strftime('%d/%m/%Y'))\n",
        "      manu2.append(l[0].strftime('%d/%m/%Y'))\n",
        "\n",
        "    elif len(k) == 2:\n",
        "      for i in range(len(k)):\n",
        "        if len(k[i])>7:\n",
        "          d1, m1, y1 = [int(x) for x in k[i].split('-')]\n",
        "          l.append(date(y1, m1, d1))\n",
        "        else:\n",
        "          m2, y2 = [int(x) for x in k[i].split('-')]\n",
        "          d = 1\n",
        "          l.append(date(y2, m2, d))\n",
        "      l.sort() \n",
        "      if l[1]>datetime.today().date():\n",
        "        reg_upto2.append(l[1].strftime('%d/%m/%Y'))\n",
        "        reg_from2.append(l[0].strftime('%d/%m/%Y'))\n",
        "        manu2.append(None)\n",
        "      else:\n",
        "        reg_upto2.append('None')\n",
        "        reg_from2.append(l[1].strftime('%d/%m/%Y'))\n",
        "        manu2.append(l[0].strftime('%d/%m/%Y'))\n",
        "    else:\n",
        "      for i in range(len(k)):\n",
        "        if len(k[i])>7:\n",
        "          d1, m1, y1 = [int(x) for x in k[i].split('-')]\n",
        "          l.append(date(y1, m1, d1))\n",
        "        else:\n",
        "          m2, y2 = [int(x) for x in k[i].split('-')]\n",
        "          d = 1\n",
        "          l.append(date(y2, m2, d))\n",
        "      reg_upto2.append('None')\n",
        "      reg_from2.append('None')\n",
        "      manu2.append(l[0].strftime('%d/%m/%Y'))\n",
        "  elif a == 3:\n",
        "    reg_upto2.append('None')\n",
        "    reg_from2.append('None')\n",
        "    manu2.append('None')   "
      ],
      "execution_count": 0,
      "outputs": [
        {
          "output_type": "stream",
          "text": [
            "Image loaded ../content/drive/My Drive/image/txt_mudit_b8_1_855.jpg\n",
            "Image loaded ../content/drive/My Drive/image/txt_mudit_b8_2_213.jpg\n",
            "Image loaded ../content/drive/My Drive/image/txt_mudit_b11_12.jpg\n",
            "Image loaded ../content/drive/My Drive/image/txt_mudit_b11_439.jpg\n",
            "Image loaded ../content/drive/My Drive/image/txt_mudit_b11_480.jpg\n",
            "Image loaded ../content/drive/My Drive/image/txt_mudit_b11_746.jpg\n",
            "Image loaded ../content/drive/My Drive/image/txt_mudit_b11_961.jpg\n",
            "Image loaded ../content/drive/My Drive/image/txt_mudit_b11_1343.jpg\n",
            "Image loaded ../content/drive/My Drive/image/txt_mudit_b11_1330.jpg\n",
            "Image loaded ../content/drive/My Drive/image/txt_mudit_b11_1369.jpg\n",
            "Image loaded ../content/drive/My Drive/image/txt_mudit_b11_1339.jpg\n",
            "Image loaded ../content/drive/My Drive/image/txt_mudit_b11_1332.jpg\n",
            "Image loaded ../content/drive/My Drive/image/txt_mudit_b11_1337.jpg\n",
            "Image loaded ../content/drive/My Drive/image/txt_mudit_b11_1328.jpg\n",
            "Image loaded ../content/drive/My Drive/image/txt_mudit_b11_1363.jpg\n"
          ],
          "name": "stdout"
        }
      ]
    },
    {
      "cell_type": "code",
      "metadata": {
        "id": "6he7aaGYmSDK",
        "colab_type": "code",
        "outputId": "784147d0-1ec9-4f71-c550-df5e217f300e",
        "colab": {
          "base_uri": "https://localhost:8080/",
          "height": 308
        }
      },
      "source": [
        "chesi3 = []\n",
        "regis3 = []\n",
        "reg_upto3 = []\n",
        "reg_from3 = []\n",
        "manu3 = []\n",
        "\n",
        "for i in range(30,46):\n",
        "  f = newi_list_dir[i]\n",
        "  with open(f, 'rb') as file:\n",
        "    img_test = file.read()\n",
        "    bytes_test = bytearray(img_test)\n",
        "    print('Image loaded', f)\n",
        "  response = client.analyze_document(Document={'Bytes': bytes_test}, FeatureTypes=[\"TABLES\",'FORMS'])\n",
        "  blocks=response['Blocks']\n",
        "  \n",
        "  x = []\n",
        "  for block in blocks:\n",
        "    if block['BlockType']=='LINE':\n",
        "      x.append(block['Text'])\n",
        "  \n",
        "  y = []\n",
        "  for block in blocks:\n",
        "    if block['BlockType']=='WORD':\n",
        "      y.append(block['Text'])\n",
        "\n",
        "  chesi3.append(chesis(x,y))\n",
        "  regis3.append(Registration(x,y))\n",
        "  \n",
        "     \n",
        "  \n",
        "  k,a= date_finder(y)\n",
        "  l = []\n",
        "  if a == 1:\n",
        "    if len(k) == 3:\n",
        "      for i in range(len(k)):\n",
        "        if len(k[i])>7:\n",
        "          d1, m1, y1 = [int(x) for x in k[i].split('/')]\n",
        "          l.append(date(y1, m1, d1))\n",
        "        else:\n",
        "          m2, y2 = [int(x) for x in k[i].split('/')]\n",
        "          d = 1\n",
        "          l.append(date(y2, m2, d))\n",
        "      l.sort()\n",
        "      reg_upto3.append(l[-1].strftime('%d/%m/%Y'))\n",
        "      reg_from3.append(l[1].strftime('%d/%m/%Y'))\n",
        "      manu3.append(l[0].strftime('%d/%m/%Y'))\n",
        "\n",
        "    elif len(k) == 2:\n",
        "      for i in range(len(k)):\n",
        "        if len(k[i])>7:\n",
        "          d1, m1, y1 = [int(x) for x in k[i].split('/')]\n",
        "          l.append(date(y1, m1, d1))\n",
        "        else:\n",
        "          m2, y2 = [int(x) for x in k[i].split('/')]\n",
        "          d = 1\n",
        "          l.append(date(y2, m2, d))\n",
        "      l.sort() \n",
        "      if l[1]>datetime.today().date():\n",
        "        reg_upto3.append(l[1].strftime('%d/%m/%Y'))\n",
        "        reg_from3.append(l[0].strftime('%d/%m/%Y'))\n",
        "        manu3.append(None)\n",
        "      else:\n",
        "        reg_upto3.append('None')\n",
        "        reg_from3.append(l[1].strftime('%d/%m/%Y'))\n",
        "        manu3.append(l[0].strftime('%d/%m/%Y'))\n",
        "    else:\n",
        "      for i in range(len(k)):\n",
        "        if len(k[i])>7:\n",
        "          d1, m1, y1 = [int(x) for x in k[i].split('/')]\n",
        "          l.append(date(y1, m1, d1))\n",
        "        else:\n",
        "          m2, y2 = [int(x) for x in k[i].split('/')]\n",
        "          d = 1\n",
        "          l.append(date(y2, m2, d))\n",
        "      reg_upto3.append('None')\n",
        "      reg_from3.append('None')\n",
        "      manu3.append(l[0].strftime('%d/%m/%Y'))\n",
        "  \n",
        "  elif a == 2:\n",
        "    if len(k) == 3:\n",
        "      for i in range(len(k)):\n",
        "        if len(k[i])>7:\n",
        "          d1, m1, y1 = [int(x) for x in k[i].split('-')]\n",
        "          l.append(date(y1, m1, d1))\n",
        "        else:\n",
        "          m2, y2 = [int(x) for x in k[i].split('-')]\n",
        "          d = 1\n",
        "          l.append(date(y2, m2, d))\n",
        "      l.sort()\n",
        "      reg_upto3.append(l[-1].strftime('%d/%m/%Y'))\n",
        "      reg_from3.append(l[1].strftime('%d/%m/%Y'))\n",
        "      manu3.append(l[0].strftime('%d/%m/%Y'))\n",
        "\n",
        "    elif len(k) == 2:\n",
        "      for i in range(len(k)):\n",
        "        if len(k[i])>7:\n",
        "          d1, m1, y1 = [int(x) for x in k[i].split('-')]\n",
        "          l.append(date(y1, m1, d1))\n",
        "        else:\n",
        "          m2, y2 = [int(x) for x in k[i].split('-')]\n",
        "          d = 1\n",
        "          l.append(date(y2, m2, d))\n",
        "      l.sort() \n",
        "      if l[1]>datetime.today().date():\n",
        "        reg_upto3.append(l[1].strftime('%d/%m/%Y'))\n",
        "        reg_from3.append(l[0].strftime('%d/%m/%Y'))\n",
        "        manu3.append(None)\n",
        "      else:\n",
        "        reg_upto3.append('None')\n",
        "        reg_from3.append(l[1].strftime('%d/%m/%Y'))\n",
        "        manu3.append(l[0].strftime('%d/%m/%Y'))\n",
        "    else:\n",
        "      for i in range(len(k)):\n",
        "        if len(k[i])>7:\n",
        "          d1, m1, y1 = [int(x) for x in k[i].split('-')]\n",
        "          l.append(date(y1, m1, d1))\n",
        "        else:\n",
        "          m2, y2 = [int(x) for x in k[i].split('-')]\n",
        "          d = 1\n",
        "          l.append(date(y2, m2, d))\n",
        "      reg_upto3.append('None')\n",
        "      reg_from3.append('None')\n",
        "      manu3.append(l[0].strftime('%d/%m/%Y'))\n",
        "  elif a == 3:\n",
        "    reg_upto3.append('None')\n",
        "    reg_from3.append('None')\n",
        "    manu3.append('None')   "
      ],
      "execution_count": 0,
      "outputs": [
        {
          "output_type": "stream",
          "text": [
            "Image loaded ../content/drive/My Drive/image/txt_mudit_b11_1365.jpg\n",
            "Image loaded ../content/drive/My Drive/image/txt_mudit_b11_1334.jpg\n",
            "Image loaded ../content/drive/My Drive/image/txt_mudit_b11_1364.jpg\n",
            "Image loaded ../content/drive/My Drive/image/txt_mudit_b11_1347.jpg\n",
            "Image loaded ../content/drive/My Drive/image/txt_mudit_b11_1361.jpg\n",
            "Image loaded ../content/drive/My Drive/image/txt_mudit_b11_1354.jpg\n",
            "Image loaded ../content/drive/My Drive/image/txt_mudit_b11_1355.jpg\n",
            "Image loaded ../content/drive/My Drive/image/txt_mudit_b11_1362.jpg\n",
            "Image loaded ../content/drive/My Drive/image/txt_mudit_b11_1524.jpg\n",
            "Image loaded ../content/drive/My Drive/image/txt_mudit_b11_1529.jpg\n",
            "Image loaded ../content/drive/My Drive/image/txt_mudit_b11_1534.jpg\n",
            "Image loaded ../content/drive/My Drive/image/txt_mudit_b11_1535.jpg\n",
            "Image loaded ../content/drive/My Drive/image/txt_mudit_b11_1536.jpg\n",
            "Image loaded ../content/drive/My Drive/image/txt_mudit_b11_1539.jpg\n",
            "Image loaded ../content/drive/My Drive/image/txt_mudit_b11_11597.jpg\n",
            "Image loaded ../content/drive/My Drive/image/txt_mudit_b11_11599.jpg\n"
          ],
          "name": "stdout"
        }
      ]
    },
    {
      "cell_type": "markdown",
      "metadata": {
        "id": "gyxe-OJv_Ac9",
        "colab_type": "text"
      },
      "source": [
        "# COMBINING THREE LISTS FOR EACH CASE AND MAKING A FINAL LIST FOR EACH CASE EXCEPT 'NAME' AND \"ENGINE NO\""
      ]
    },
    {
      "cell_type": "code",
      "metadata": {
        "id": "1EI3jUTUpphb",
        "colab_type": "code",
        "colab": {}
      },
      "source": [
        "regis = regis1+regis2+regis3"
      ],
      "execution_count": 0,
      "outputs": []
    },
    {
      "cell_type": "code",
      "metadata": {
        "id": "0j2yEbvQpzIu",
        "colab_type": "code",
        "colab": {}
      },
      "source": [
        "chesi = chesi1+chesi2+chesi3"
      ],
      "execution_count": 0,
      "outputs": []
    },
    {
      "cell_type": "code",
      "metadata": {
        "id": "AxOJJuFWp7Ix",
        "colab_type": "code",
        "colab": {}
      },
      "source": [
        "reg_from = reg_from1+reg_from2+reg_from3"
      ],
      "execution_count": 0,
      "outputs": []
    },
    {
      "cell_type": "code",
      "metadata": {
        "id": "WpLqb7H8qEuu",
        "colab_type": "code",
        "colab": {}
      },
      "source": [
        "reg_upto = reg_upto1+reg_upto2+reg_upto3"
      ],
      "execution_count": 0,
      "outputs": []
    },
    {
      "cell_type": "code",
      "metadata": {
        "id": "-T_AGqNnqEcT",
        "colab_type": "code",
        "colab": {}
      },
      "source": [
        "manu = manu1+manu2+manu3"
      ],
      "execution_count": 0,
      "outputs": []
    },
    {
      "cell_type": "markdown",
      "metadata": {
        "id": "5f-xebSW_nP3",
        "colab_type": "text"
      },
      "source": [
        "# AUGUMENTING THE REGIS LIST TO PREDICT MORE ACCURATE RESULT"
      ]
    },
    {
      "cell_type": "code",
      "metadata": {
        "id": "dRrU-7qJ4C0d",
        "colab_type": "code",
        "colab": {}
      },
      "source": [
        "registration = []\n",
        "for pr in regis:\n",
        "  if pr != None:\n",
        "    if pr.find(':') != -1:\n",
        "      registration.append(pr.split(':')[-1])\n",
        "      continue\n",
        "    elif pr.find('NO') != -1:\n",
        "      registration.append(pr.split('NO')[-1])\n",
        "      continue\n",
        "    registration.append(pr)\n",
        "  else:\n",
        "    registration.append(None)\n",
        "  "
      ],
      "execution_count": 0,
      "outputs": []
    },
    {
      "cell_type": "markdown",
      "metadata": {
        "id": "BhBbTq_PwJUQ",
        "colab_type": "text"
      },
      "source": [
        "# FUNCTIONS FOR NAME"
      ]
    },
    {
      "cell_type": "code",
      "metadata": {
        "id": "_XqvGz6nMpvR",
        "colab_type": "code",
        "colab": {}
      },
      "source": [
        "def NAME(w,x):\n",
        "  if x[w].find(\"NAME\") == -1:\n",
        "    return(None)\n",
        "  else:\n",
        "    if any(n in x[w].split('NAME')[-1].split('.')[-1].split(':')[-1] for n in ['',' ']):\n",
        "      if x[w+1].isupper() == True and len(x[w+1])>2:\n",
        "        return(x[w+1])\n",
        "      elif x[w+2].isupper() == True and len(x[w+2])>2:\n",
        "        return(x[w+2])\n",
        "    else:\n",
        "      return(x[w].split('NAME')[-1].split('.')[-1].split(':')[-1])"
      ],
      "execution_count": 0,
      "outputs": []
    },
    {
      "cell_type": "code",
      "metadata": {
        "id": "IM-Yi0S-MwQp",
        "colab_type": "code",
        "colab": {}
      },
      "source": [
        "def Name(w,x):\n",
        "  if x[w].find(\"Name\") == -1:\n",
        "    return(None)\n",
        "  else:\n",
        "    if any(n in x[w].split('Name')[-1].split('.')[-1].split(':')[-1] for n in ['',' ']):\n",
        "      if x[w+1].isupper() == True and len(x[w+1])>2:\n",
        "        return(x[w+1])\n",
        "      elif x[w+2].isupper() == True and len(x[w+2])>2:\n",
        "        return(x[w+2])\n",
        "    else:\n",
        "      return(x[w].split('Name')[-1].split('.')[-1].split(':')[-1])"
      ],
      "execution_count": 0,
      "outputs": []
    },
    {
      "cell_type": "code",
      "metadata": {
        "id": "DOSCGOafMzGa",
        "colab_type": "code",
        "colab": {}
      },
      "source": [
        "def name1(w,x):\n",
        "  if x[w].find(\"name\") == -1:\n",
        "    return(None)\n",
        "  else:\n",
        "    if any(n in x[w].split('name')[-1].split('.')[-1].split(':')[-1] for n in ['',' ']):\n",
        "      if x[w+1].isupper() == True and len(x[w+1])>2:\n",
        "        return(x[w+1])\n",
        "      elif x[w+2].isupper() == True and len(x[w+2])>2:\n",
        "        return(x[w+2])\n",
        "    else:\n",
        "      return(x[w].split('name')[-1].split('.')[-1].split(':')[-1])"
      ],
      "execution_count": 0,
      "outputs": []
    },
    {
      "cell_type": "code",
      "metadata": {
        "id": "MCieuTvIM6AC",
        "colab_type": "code",
        "colab": {}
      },
      "source": [
        "def NAME_add(w,x):\n",
        "  if x[w].find(\"NAME&ADDRESS\") == -1:\n",
        "    return(None)\n",
        "  else:\n",
        "    if any(n in x[w].split('NAME&ADDRESS')[-1].split('.')[-1].split(':')[-1] for n in ['',' ']):\n",
        "      if x[w+1].isupper() == True and len(x[w+1])>2:\n",
        "        return(x[w+1])\n",
        "      elif x[w+2].isupper() == True and len(x[w+2])>2:\n",
        "        return(x[w+2])\n",
        "    else:\n",
        "      return(x[w].split('NAME&ADDRESS')[-1].split('.')[-1].split(':')[-1])"
      ],
      "execution_count": 0,
      "outputs": []
    },
    {
      "cell_type": "code",
      "metadata": {
        "id": "TKYlxcpyOOPv",
        "colab_type": "code",
        "colab": {}
      },
      "source": [
        "def final_name(y):\n",
        "  for w in range(len(y)):\n",
        "    if name1(w,y) != None:\n",
        "      return(name(w,y))\n",
        "    elif NAME(w,y) != None:\n",
        "      return(NAME(w,y))\n",
        "    elif Name(w,y) != None:\n",
        "      return(Name(w,y))\n",
        "    elif NAME_add(w,y) != None:\n",
        "      return(NAME_add(w,y))\n",
        "  \n",
        "  return(None)\n"
      ],
      "execution_count": 0,
      "outputs": []
    },
    {
      "cell_type": "markdown",
      "metadata": {
        "id": "PBowPDt5AAvZ",
        "colab_type": "text"
      },
      "source": [
        "# CREATING THE NAME OUTPUT IN FOUR PARTS TO AVOID PROVITION ERROR"
      ]
    },
    {
      "cell_type": "code",
      "metadata": {
        "id": "10wGMbZyp8vV",
        "colab_type": "code",
        "outputId": "f7bd1955-d46d-4467-d8e2-8314f1474311",
        "colab": {
          "base_uri": "https://localhost:8080/",
          "height": 563
        }
      },
      "source": [
        "name = []\n",
        "for i in range(15):\n",
        "  f = newi_list_dir[i]\n",
        "  \n",
        "  from PIL import Image\n",
        "\n",
        "  def get_num_pixels(filepath):\n",
        "    width, height = Image.open(filepath).size\n",
        "    a = []\n",
        "    a.append(width)\n",
        "    a.append(height)\n",
        "    return(a)\n",
        "\n",
        "  p = get_num_pixels(f)\n",
        "\n",
        "  def crop(image_path, coords, saved_location):  \n",
        "  \n",
        "    image_obj = Image.open(image_path)\n",
        "    cropped_image = image_obj.crop(coords)\n",
        "    cropped_image.save(saved_location)\n",
        "    cropped_image.show()\n",
        " \n",
        "  x = (p[0]*5)/100\n",
        "  y = (p[1]*15)/100\n",
        "  w = (p[0]*75)/100\n",
        "  h = (p[1]*50)/100\n",
        "  crop(f, (x,y,w,h), 'cropped.jpg')\n",
        "\n",
        "  f = '/content/cropped.jpg'\n",
        "  with open(f, 'rb') as file:\n",
        "    img_test = file.read()\n",
        "    bytes_test = bytearray(img_test)\n",
        "    print('Image loaded', f)\n",
        "    print(newi_list_dir[i])\n",
        "\n",
        "    # process using image bytes\n",
        "  response = client.analyze_document(Document={'Bytes': bytes_test}, FeatureTypes=[\"TABLES\",'FORMS'])\n",
        "  blocks=response['Blocks']\n",
        "\n",
        "  x = []\n",
        "  for block in blocks:\n",
        "    if block['BlockType']=='LINE':\n",
        "      x.append(block['Text'])\n",
        "  \n",
        "  name.append(final_name(x))\n",
        "\n"
      ],
      "execution_count": 0,
      "outputs": [
        {
          "output_type": "stream",
          "text": [
            "Image loaded /content/cropped.jpg\n",
            "../content/drive/My Drive/image/txt_mudit_b8_1_545.jpg\n",
            "Image loaded /content/cropped.jpg\n",
            "../content/drive/My Drive/image/txt_mudit_b8_1_571.jpg\n",
            "Image loaded /content/cropped.jpg\n",
            "../content/drive/My Drive/image/txt_mudit_b8_1_808.jpg\n",
            "Image loaded /content/cropped.jpg\n",
            "../content/drive/My Drive/image/txt_mudit_b8_1_546.jpg\n",
            "Image loaded /content/cropped.jpg\n",
            "../content/drive/My Drive/image/txt_mudit_b8_1_513.jpg\n",
            "Image loaded /content/cropped.jpg\n",
            "../content/drive/My Drive/image/txt_mudit_b8_1_554.jpg\n",
            "Image loaded /content/cropped.jpg\n",
            "../content/drive/My Drive/image/txt_mudit_b8_1_573.jpg\n",
            "Image loaded /content/cropped.jpg\n",
            "../content/drive/My Drive/image/txt_mudit_b8_1_807.jpg\n",
            "Image loaded /content/cropped.jpg\n",
            "../content/drive/My Drive/image/txt_mudit_b8_1_574.jpg\n",
            "Image loaded /content/cropped.jpg\n",
            "../content/drive/My Drive/image/txt_mudit_b8_1_555.jpg\n",
            "Image loaded /content/cropped.jpg\n",
            "../content/drive/My Drive/image/txt_mudit_b8_1_742.jpg\n",
            "Image loaded /content/cropped.jpg\n",
            "../content/drive/My Drive/image/txt_mudit_b8_1_741.jpg\n",
            "Image loaded /content/cropped.jpg\n",
            "../content/drive/My Drive/image/txt_mudit_b8_1_740.jpg\n",
            "Image loaded /content/cropped.jpg\n",
            "../content/drive/My Drive/image/txt_mudit_b8_1_806.jpg\n",
            "Image loaded /content/cropped.jpg\n",
            "../content/drive/My Drive/image/txt_mudit_b8_1_854.jpg\n"
          ],
          "name": "stdout"
        }
      ]
    },
    {
      "cell_type": "code",
      "metadata": {
        "id": "EbPZNeR6byss",
        "colab_type": "code",
        "outputId": "e34135ca-5105-400b-8e73-6fe4a1fb8f6c",
        "colab": {
          "base_uri": "https://localhost:8080/",
          "height": 345
        }
      },
      "source": [
        "name_1 = []\n",
        "for i in range(15,24):\n",
        "  f = newi_list_dir[i]\n",
        "  \n",
        "  from PIL import Image\n",
        "\n",
        "  def get_num_pixels(filepath):\n",
        "    width, height = Image.open(filepath).size\n",
        "    a = []\n",
        "    a.append(width)\n",
        "    a.append(height)\n",
        "    return(a)\n",
        "\n",
        "  p = get_num_pixels(f)\n",
        "\n",
        "  def crop(image_path, coords, saved_location):  \n",
        "  \n",
        "    image_obj = Image.open(image_path)\n",
        "    cropped_image = image_obj.crop(coords)\n",
        "    cropped_image.save(saved_location)\n",
        "    cropped_image.show()\n",
        " \n",
        "  x = (p[0]*5)/100\n",
        "  y = (p[1]*15)/100\n",
        "  w = (p[0]*75)/100\n",
        "  h = (p[1]*50)/100\n",
        "  crop(f, (x,y,w,h), 'cropped.jpg')\n",
        "\n",
        "  f = '/content/cropped.jpg'\n",
        "  with open(f, 'rb') as file:\n",
        "    img_test = file.read()\n",
        "    bytes_test = bytearray(img_test)\n",
        "    print('Image loaded', f)\n",
        "    print(newi_list_dir[i])\n",
        "\n",
        "    # process using image bytes\n",
        "  response = client2.analyze_document(Document={'Bytes': bytes_test}, FeatureTypes=[\"TABLES\",'FORMS'])\n",
        "  blocks=response['Blocks']\n",
        "\n",
        "  x = []\n",
        "  for block in blocks:\n",
        "    if block['BlockType']=='LINE':\n",
        "      x.append(block['Text'])\n",
        "  \n",
        "  name_1.append(final_name(x))\n",
        "\n"
      ],
      "execution_count": 0,
      "outputs": [
        {
          "output_type": "stream",
          "text": [
            "Image loaded /content/cropped.jpg\n",
            "../content/drive/My Drive/image/txt_mudit_b8_1_855.jpg\n",
            "Image loaded /content/cropped.jpg\n",
            "../content/drive/My Drive/image/txt_mudit_b8_2_213.jpg\n",
            "Image loaded /content/cropped.jpg\n",
            "../content/drive/My Drive/image/txt_mudit_b11_12.jpg\n",
            "Image loaded /content/cropped.jpg\n",
            "../content/drive/My Drive/image/txt_mudit_b11_439.jpg\n",
            "Image loaded /content/cropped.jpg\n",
            "../content/drive/My Drive/image/txt_mudit_b11_480.jpg\n",
            "Image loaded /content/cropped.jpg\n",
            "../content/drive/My Drive/image/txt_mudit_b11_746.jpg\n",
            "Image loaded /content/cropped.jpg\n",
            "../content/drive/My Drive/image/txt_mudit_b11_961.jpg\n",
            "Image loaded /content/cropped.jpg\n",
            "../content/drive/My Drive/image/txt_mudit_b11_1343.jpg\n",
            "Image loaded /content/cropped.jpg\n",
            "../content/drive/My Drive/image/txt_mudit_b11_1330.jpg\n"
          ],
          "name": "stdout"
        }
      ]
    },
    {
      "cell_type": "code",
      "metadata": {
        "id": "gVGLE2HBkLMX",
        "colab_type": "code",
        "outputId": "0e683734-dc5e-4ac9-cd01-cd5672f63471",
        "colab": {
          "base_uri": "https://localhost:8080/",
          "height": 381
        }
      },
      "source": [
        "name_2 = []\n",
        "for i in range(24,34):\n",
        "  f = newi_list_dir[i]\n",
        "  \n",
        "  from PIL import Image\n",
        "\n",
        "  def get_num_pixels(filepath):\n",
        "    width, height = Image.open(filepath).size\n",
        "    a = []\n",
        "    a.append(width)\n",
        "    a.append(height)\n",
        "    return(a)\n",
        "\n",
        "  p = get_num_pixels(f)\n",
        "\n",
        "  def crop(image_path, coords, saved_location):  \n",
        "  \n",
        "    image_obj = Image.open(image_path)\n",
        "    cropped_image = image_obj.crop(coords)\n",
        "    cropped_image.save(saved_location)\n",
        "    cropped_image.show()\n",
        " \n",
        "  x = (p[0]*5)/100\n",
        "  y = (p[1]*15)/100\n",
        "  w = (p[0]*75)/100\n",
        "  h = (p[1]*50)/100\n",
        "  crop(f, (x,y,w,h), 'cropped.jpg')\n",
        "\n",
        "  f = '/content/cropped.jpg'\n",
        "  with open(f, 'rb') as file:\n",
        "    img_test = file.read()\n",
        "    bytes_test = bytearray(img_test)\n",
        "    print('Image loaded', f)\n",
        "\n",
        "    # process using image bytes\n",
        "  response = client3.analyze_document(Document={'Bytes': bytes_test}, FeatureTypes=[\"TABLES\",'FORMS'])\n",
        "  blocks=response['Blocks']\n",
        "\n",
        "  x = []\n",
        "  for block in blocks:\n",
        "    if block['BlockType']=='LINE':\n",
        "      x.append(block['Text'])\n",
        "  \n",
        "  name_2.append(final_name(x))\n",
        "\n"
      ],
      "execution_count": 0,
      "outputs": [
        {
          "output_type": "stream",
          "text": [
            "Image loaded /content/cropped.jpg\n",
            "../content/drive/My Drive/image/txt_mudit_b11_1369.jpg\n",
            "Image loaded /content/cropped.jpg\n",
            "../content/drive/My Drive/image/txt_mudit_b11_1339.jpg\n",
            "Image loaded /content/cropped.jpg\n",
            "../content/drive/My Drive/image/txt_mudit_b11_1332.jpg\n",
            "Image loaded /content/cropped.jpg\n",
            "../content/drive/My Drive/image/txt_mudit_b11_1337.jpg\n",
            "Image loaded /content/cropped.jpg\n",
            "../content/drive/My Drive/image/txt_mudit_b11_1328.jpg\n",
            "Image loaded /content/cropped.jpg\n",
            "../content/drive/My Drive/image/txt_mudit_b11_1363.jpg\n",
            "Image loaded /content/cropped.jpg\n",
            "../content/drive/My Drive/image/txt_mudit_b11_1365.jpg\n",
            "Image loaded /content/cropped.jpg\n",
            "../content/drive/My Drive/image/txt_mudit_b11_1334.jpg\n",
            "Image loaded /content/cropped.jpg\n",
            "../content/drive/My Drive/image/txt_mudit_b11_1364.jpg\n",
            "Image loaded /content/cropped.jpg\n",
            "../content/drive/My Drive/image/txt_mudit_b11_1347.jpg\n"
          ],
          "name": "stdout"
        }
      ]
    },
    {
      "cell_type": "code",
      "metadata": {
        "id": "n82ZCdM8pdxc",
        "colab_type": "code",
        "outputId": "93cd5126-c71e-4b0d-e60c-2744a597eab3",
        "colab": {
          "base_uri": "https://localhost:8080/",
          "height": 454
        }
      },
      "source": [
        "name_3 = []\n",
        "for i in range(34,46):\n",
        "  f = newi_list_dir[i]\n",
        "  \n",
        "  from PIL import Image\n",
        "\n",
        "  def get_num_pixels(filepath):\n",
        "    width, height = Image.open(filepath).size\n",
        "    a = []\n",
        "    a.append(width)\n",
        "    a.append(height)\n",
        "    return(a)\n",
        "\n",
        "  p = get_num_pixels(f)\n",
        "\n",
        "  def crop(image_path, coords, saved_location):  \n",
        "  \n",
        "    image_obj = Image.open(image_path)\n",
        "    cropped_image = image_obj.crop(coords)\n",
        "    cropped_image.save(saved_location)\n",
        "    cropped_image.show()\n",
        " \n",
        "  x = (p[0]*5)/100\n",
        "  y = (p[1]*15)/100\n",
        "  w = (p[0]*75)/100\n",
        "  h = (p[1]*50)/100\n",
        "  crop(f, (x,y,w,h), 'cropped.jpg')\n",
        "\n",
        "  f = '/content/cropped.jpg'\n",
        "  with open(f, 'rb') as file:\n",
        "    img_test = file.read()\n",
        "    bytes_test = bytearray(img_test)\n",
        "    print('Image loaded', f)\n",
        "\n",
        "    # process using image bytes\n",
        "  response = client1.analyze_document(Document={'Bytes': bytes_test}, FeatureTypes=[\"TABLES\",'FORMS'])\n",
        "  blocks=response['Blocks']\n",
        "\n",
        "  x = []\n",
        "  for block in blocks:\n",
        "    if block['BlockType']=='LINE':\n",
        "      x.append(block['Text'])\n",
        "  \n",
        "  name_3.append(final_name(x))\n",
        "\n"
      ],
      "execution_count": 0,
      "outputs": [
        {
          "output_type": "stream",
          "text": [
            "Image loaded /content/cropped.jpg\n",
            "../content/drive/My Drive/image/txt_mudit_b11_1361.jpg\n",
            "Image loaded /content/cropped.jpg\n",
            "../content/drive/My Drive/image/txt_mudit_b11_1354.jpg\n",
            "Image loaded /content/cropped.jpg\n",
            "../content/drive/My Drive/image/txt_mudit_b11_1355.jpg\n",
            "Image loaded /content/cropped.jpg\n",
            "../content/drive/My Drive/image/txt_mudit_b11_1362.jpg\n",
            "Image loaded /content/cropped.jpg\n",
            "../content/drive/My Drive/image/txt_mudit_b11_1524.jpg\n",
            "Image loaded /content/cropped.jpg\n",
            "../content/drive/My Drive/image/txt_mudit_b11_1529.jpg\n",
            "Image loaded /content/cropped.jpg\n",
            "../content/drive/My Drive/image/txt_mudit_b11_1534.jpg\n",
            "Image loaded /content/cropped.jpg\n",
            "../content/drive/My Drive/image/txt_mudit_b11_1535.jpg\n",
            "Image loaded /content/cropped.jpg\n",
            "../content/drive/My Drive/image/txt_mudit_b11_1536.jpg\n",
            "Image loaded /content/cropped.jpg\n",
            "../content/drive/My Drive/image/txt_mudit_b11_1539.jpg\n",
            "Image loaded /content/cropped.jpg\n",
            "../content/drive/My Drive/image/txt_mudit_b11_11597.jpg\n",
            "Image loaded /content/cropped.jpg\n",
            "../content/drive/My Drive/image/txt_mudit_b11_11599.jpg\n"
          ],
          "name": "stdout"
        }
      ]
    },
    {
      "cell_type": "code",
      "metadata": {
        "id": "_IWD5SU7rIHu",
        "colab_type": "code",
        "colab": {}
      },
      "source": [
        "total_name = name+name_1+name_2+name_3"
      ],
      "execution_count": 0,
      "outputs": []
    },
    {
      "cell_type": "markdown",
      "metadata": {
        "id": "arAjzXz8Abib",
        "colab_type": "text"
      },
      "source": [
        "# FUNCTIONS FOR ENGINE NO"
      ]
    },
    {
      "cell_type": "code",
      "metadata": {
        "id": "tGwpn0bkOoxw",
        "colab_type": "code",
        "colab": {}
      },
      "source": [
        "def check_string(string, substring_list):\n",
        "  j = 0\n",
        "  for substring in substring_list:\n",
        "    if substring in string:\n",
        "      j = j+1\n",
        "      \n",
        "  if j == 2 or j == 1:\n",
        "    return(True)\n",
        "  else:\n",
        "    return(False) "
      ],
      "execution_count": 0,
      "outputs": []
    },
    {
      "cell_type": "code",
      "metadata": {
        "id": "IeMwna_q-Pp3",
        "colab_type": "code",
        "colab": {}
      },
      "source": [
        "def engine(x):\n",
        "  for i in range(len(x)):    \n",
        "    if any(list(k in x[i] for k in ['Engine','ENGINE','E No','E no','E NO'])) == True:\n",
        "      if check_string(x[i],['No','.']) == True:\n",
        "        return(x[i].split('No')[-1].split('.')[-1])\n",
        "      elif check_string(x[i],['NO','.']) == True :\n",
        "        return(x[i].split('NO')[-1].split('.')[-1])\n",
        "      elif check_string(x[i],['No',':']) == True:\n",
        "        return(x[i].split('No')[-1].split(':')[-1])\n",
        "      elif check_string(x[i],['NO',':']) == True:\n",
        "        return(x[i].split('NO')[-1].split(':')[-1])\n",
        "      elif check_string(x[i],['no','.']) == True:\n",
        "        return(x[i].split('no')[-1].split('.')[-1])\n",
        "      elif check_string(x[i],['no',':']) == True:\n",
        "        return(x[i].split('no')[-1].split(':')[-1])\n",
        "      elif len(x[i].split('Engine')[-1])>3:\n",
        "        return(x[i].split('Engine')[-1])\n",
        "      elif len(x[i].split('ENGINE')[-1])>3:\n",
        "        return(x[i].split('ENGINE')[-1])\n",
        "    elif x[i].find('ENO') == 0 or x[i].find('ENO') == 1:\n",
        "      if len(x[i].split('NO')[-1].split('.')[-1])>4:\n",
        "        return(x[i].split('NO')[-1].split('.')[-1])\n",
        "  return(1)"
      ],
      "execution_count": 0,
      "outputs": []
    },
    {
      "cell_type": "markdown",
      "metadata": {
        "id": "oiFGpTu9AjIq",
        "colab_type": "text"
      },
      "source": [
        "# COLLECTING THE ENGINE NO IN THREE DIFFERENT PARTS "
      ]
    },
    {
      "cell_type": "code",
      "metadata": {
        "id": "burYB3wwVXcu",
        "colab_type": "code",
        "outputId": "e4db116e-bf16-429f-9e89-4afff42d35d5",
        "colab": {
          "base_uri": "https://localhost:8080/",
          "height": 472
        }
      },
      "source": [
        "engine1 = []\n",
        "\n",
        "for q in range(25):\n",
        "  a = newi_list_dir[q]\n",
        "  with open(a, 'rb') as file:\n",
        "    img_test = file.read()\n",
        "    bytes_test = bytearray(img_test)\n",
        "    print('Image loaded', a)\n",
        "\n",
        "    # process using image bytes\n",
        "  response = client4.analyze_document(Document={'Bytes': bytes_test}, FeatureTypes=[\"TABLES\",'FORMS'])\n",
        "  blocks=response['Blocks']\n",
        "\n",
        "  x = []\n",
        "  for block in blocks:\n",
        "    if block['BlockType']=='LINE':\n",
        "      x.append(block['Text'])\n",
        "  \n",
        "  engi = []\n",
        "  r = engine(x)\n",
        "  if r == 1 or r == '' or r == ' ':\n",
        "    for m in range(len(x)-1):\n",
        "      if any(list(n in x[m] for n in ['Engine','ENGINE','E No','E no','E NO','ENO'])) == True:\n",
        "        engi.append(x[m+1]) \n",
        "    engi.append(None)\n",
        "\n",
        "  else:\n",
        "    engi.append(r)\n",
        "  engine1.append(engi)"
      ],
      "execution_count": 0,
      "outputs": [
        {
          "output_type": "stream",
          "text": [
            "Image loaded ../content/drive/My Drive/image/txt_mudit_b8_1_545.jpg\n",
            "Image loaded ../content/drive/My Drive/image/txt_mudit_b8_1_571.jpg\n",
            "Image loaded ../content/drive/My Drive/image/txt_mudit_b8_1_808.jpg\n",
            "Image loaded ../content/drive/My Drive/image/txt_mudit_b8_1_546.jpg\n",
            "Image loaded ../content/drive/My Drive/image/txt_mudit_b8_1_513.jpg\n",
            "Image loaded ../content/drive/My Drive/image/txt_mudit_b8_1_554.jpg\n",
            "Image loaded ../content/drive/My Drive/image/txt_mudit_b8_1_573.jpg\n",
            "Image loaded ../content/drive/My Drive/image/txt_mudit_b8_1_807.jpg\n",
            "Image loaded ../content/drive/My Drive/image/txt_mudit_b8_1_574.jpg\n",
            "Image loaded ../content/drive/My Drive/image/txt_mudit_b8_1_555.jpg\n",
            "Image loaded ../content/drive/My Drive/image/txt_mudit_b8_1_742.jpg\n",
            "Image loaded ../content/drive/My Drive/image/txt_mudit_b8_1_741.jpg\n",
            "Image loaded ../content/drive/My Drive/image/txt_mudit_b8_1_740.jpg\n",
            "Image loaded ../content/drive/My Drive/image/txt_mudit_b8_1_806.jpg\n",
            "Image loaded ../content/drive/My Drive/image/txt_mudit_b8_1_854.jpg\n",
            "Image loaded ../content/drive/My Drive/image/txt_mudit_b8_1_855.jpg\n",
            "Image loaded ../content/drive/My Drive/image/txt_mudit_b8_2_213.jpg\n",
            "Image loaded ../content/drive/My Drive/image/txt_mudit_b11_12.jpg\n",
            "Image loaded ../content/drive/My Drive/image/txt_mudit_b11_439.jpg\n",
            "Image loaded ../content/drive/My Drive/image/txt_mudit_b11_480.jpg\n",
            "Image loaded ../content/drive/My Drive/image/txt_mudit_b11_746.jpg\n",
            "Image loaded ../content/drive/My Drive/image/txt_mudit_b11_961.jpg\n",
            "Image loaded ../content/drive/My Drive/image/txt_mudit_b11_1343.jpg\n",
            "Image loaded ../content/drive/My Drive/image/txt_mudit_b11_1330.jpg\n",
            "Image loaded ../content/drive/My Drive/image/txt_mudit_b11_1369.jpg\n"
          ],
          "name": "stdout"
        }
      ]
    },
    {
      "cell_type": "code",
      "metadata": {
        "id": "fF9gcok7TVF6",
        "colab_type": "code",
        "outputId": "137e05d6-fe47-4595-bad8-e8d9f9158402",
        "colab": {
          "base_uri": "https://localhost:8080/",
          "height": 290
        }
      },
      "source": [
        "engine2 = []\n",
        "\n",
        "for q in range(25,40):\n",
        "  a = newi_list_dir[q]\n",
        "  with open(a, 'rb') as file:\n",
        "    img_test = file.read()\n",
        "    bytes_test = bytearray(img_test)\n",
        "    print('Image loaded', a)\n",
        "\n",
        "    # process using image bytes\n",
        "  response = client4.analyze_document(Document={'Bytes': bytes_test}, FeatureTypes=[\"TABLES\",'FORMS'])\n",
        "  blocks=response['Blocks']\n",
        "\n",
        "  x = []\n",
        "  for block in blocks:\n",
        "    if block['BlockType']=='LINE':\n",
        "      x.append(block['Text'])\n",
        "  \n",
        "  engi = []\n",
        "  r = engine(x)\n",
        "  if r == 1 or r == '' or r == ' ':\n",
        "    for m in range(len(x)-1):\n",
        "      if any(list(n in x[m] for n in ['Engine','ENGINE','E No','E no','E NO','ENO'])) == True:\n",
        "        engi.append(x[m+1])\n",
        "        break\n",
        "    engi.append(None)\n",
        "\n",
        "  else:\n",
        "    engi.append(r)\n",
        "  engine2.append(engi)"
      ],
      "execution_count": 0,
      "outputs": [
        {
          "output_type": "stream",
          "text": [
            "Image loaded ../content/drive/My Drive/image/txt_mudit_b11_1339.jpg\n",
            "Image loaded ../content/drive/My Drive/image/txt_mudit_b11_1332.jpg\n",
            "Image loaded ../content/drive/My Drive/image/txt_mudit_b11_1337.jpg\n",
            "Image loaded ../content/drive/My Drive/image/txt_mudit_b11_1328.jpg\n",
            "Image loaded ../content/drive/My Drive/image/txt_mudit_b11_1363.jpg\n",
            "Image loaded ../content/drive/My Drive/image/txt_mudit_b11_1365.jpg\n",
            "Image loaded ../content/drive/My Drive/image/txt_mudit_b11_1334.jpg\n",
            "Image loaded ../content/drive/My Drive/image/txt_mudit_b11_1364.jpg\n",
            "Image loaded ../content/drive/My Drive/image/txt_mudit_b11_1347.jpg\n",
            "Image loaded ../content/drive/My Drive/image/txt_mudit_b11_1361.jpg\n",
            "Image loaded ../content/drive/My Drive/image/txt_mudit_b11_1354.jpg\n",
            "Image loaded ../content/drive/My Drive/image/txt_mudit_b11_1355.jpg\n",
            "Image loaded ../content/drive/My Drive/image/txt_mudit_b11_1362.jpg\n",
            "Image loaded ../content/drive/My Drive/image/txt_mudit_b11_1524.jpg\n",
            "Image loaded ../content/drive/My Drive/image/txt_mudit_b11_1529.jpg\n"
          ],
          "name": "stdout"
        }
      ]
    },
    {
      "cell_type": "code",
      "metadata": {
        "id": "nxxt90obT4nm",
        "colab_type": "code",
        "outputId": "ab6c49b3-a893-4e97-f3ab-cd8e374b2198",
        "colab": {
          "base_uri": "https://localhost:8080/",
          "height": 126
        }
      },
      "source": [
        "engine3 = []\n",
        "\n",
        "for q in range(40,46):\n",
        "  a = newi_list_dir[q]\n",
        "  with open(a, 'rb') as file:\n",
        "    img_test = file.read()\n",
        "    bytes_test = bytearray(img_test)\n",
        "    print('Image loaded', a)\n",
        "\n",
        "    # process using image bytes\n",
        "  response = client4.analyze_document(Document={'Bytes': bytes_test}, FeatureTypes=[\"TABLES\",'FORMS'])\n",
        "  blocks=response['Blocks']\n",
        "\n",
        "  x = []\n",
        "  for block in blocks:\n",
        "    if block['BlockType']=='LINE':\n",
        "      x.append(block['Text'])\n",
        "  \n",
        "  engi = []\n",
        "  r = engine(x)\n",
        "  if r == 1 or r == '' or r == ' ':\n",
        "    for m in range(len(x)-1):\n",
        "      if any(list(n in x[m] for n in ['Engine','ENGINE','E No','E no','E NO','ENO'])) == True:\n",
        "        engi.append(x[m+1])\n",
        "        break\n",
        "    engi.append(None)\n",
        "\n",
        "  else:\n",
        "    engi.append(r)\n",
        "  engine3.append(engi)"
      ],
      "execution_count": 0,
      "outputs": [
        {
          "output_type": "stream",
          "text": [
            "Image loaded ../content/drive/My Drive/image/txt_mudit_b11_1534.jpg\n",
            "Image loaded ../content/drive/My Drive/image/txt_mudit_b11_1535.jpg\n",
            "Image loaded ../content/drive/My Drive/image/txt_mudit_b11_1536.jpg\n",
            "Image loaded ../content/drive/My Drive/image/txt_mudit_b11_1539.jpg\n",
            "Image loaded ../content/drive/My Drive/image/txt_mudit_b11_11597.jpg\n",
            "Image loaded ../content/drive/My Drive/image/txt_mudit_b11_11599.jpg\n"
          ],
          "name": "stdout"
        }
      ]
    },
    {
      "cell_type": "code",
      "metadata": {
        "id": "3hVbLGPvUEIO",
        "colab_type": "code",
        "colab": {}
      },
      "source": [
        "total_engine = engine1+engine2+engine3"
      ],
      "execution_count": 0,
      "outputs": []
    },
    {
      "cell_type": "markdown",
      "metadata": {
        "id": "2FSktvzCAwkO",
        "colab_type": "text"
      },
      "source": [
        "# FINETUNING TO GET MORE ACCURATE RESULTS"
      ]
    },
    {
      "cell_type": "code",
      "metadata": {
        "id": "Tt45XdwSg1WB",
        "colab_type": "code",
        "colab": {}
      },
      "source": [
        "eng = []\n",
        "for e in total_engine:\n",
        "  if len(e) == 1:\n",
        "    eng.append(e)\n",
        "  else:\n",
        "    eng.append(e[0])"
      ],
      "execution_count": 0,
      "outputs": []
    },
    {
      "cell_type": "markdown",
      "metadata": {
        "id": "sYVUAJK-BBnX",
        "colab_type": "text"
      },
      "source": [
        "# CHECKING THE LENGTH FOR EACH REQUIRED VARIABLE LIST"
      ]
    },
    {
      "cell_type": "code",
      "metadata": {
        "id": "4Nf38EfncVoL",
        "colab_type": "code",
        "outputId": "a4b54056-45f1-4d32-c12f-8fc82e92e5b1",
        "colab": {
          "base_uri": "https://localhost:8080/",
          "height": 35
        }
      },
      "source": [
        "len(eng)"
      ],
      "execution_count": 0,
      "outputs": [
        {
          "output_type": "execute_result",
          "data": {
            "text/plain": [
              "46"
            ]
          },
          "metadata": {
            "tags": []
          },
          "execution_count": 123
        }
      ]
    },
    {
      "cell_type": "code",
      "metadata": {
        "id": "lR8H5tUmrQpI",
        "colab_type": "code",
        "outputId": "2f6cae9e-2021-4c6f-96de-91be57706630",
        "colab": {
          "base_uri": "https://localhost:8080/",
          "height": 35
        }
      },
      "source": [
        "len(total_name)"
      ],
      "execution_count": 0,
      "outputs": [
        {
          "output_type": "execute_result",
          "data": {
            "text/plain": [
              "46"
            ]
          },
          "metadata": {
            "tags": []
          },
          "execution_count": 124
        }
      ]
    },
    {
      "cell_type": "code",
      "metadata": {
        "id": "cYg0oPm30WoP",
        "colab_type": "code",
        "outputId": "635bbb5e-2a8c-4968-e66c-3b6105d42fa4",
        "colab": {
          "base_uri": "https://localhost:8080/",
          "height": 35
        }
      },
      "source": [
        "len(registration)"
      ],
      "execution_count": 0,
      "outputs": [
        {
          "output_type": "execute_result",
          "data": {
            "text/plain": [
              "46"
            ]
          },
          "metadata": {
            "tags": []
          },
          "execution_count": 125
        }
      ]
    },
    {
      "cell_type": "code",
      "metadata": {
        "id": "VFk3tSna3B4e",
        "colab_type": "code",
        "outputId": "a73bfc92-612a-4970-9f80-3b9f8458254d",
        "colab": {
          "base_uri": "https://localhost:8080/",
          "height": 35
        }
      },
      "source": [
        "len(chesi)"
      ],
      "execution_count": 0,
      "outputs": [
        {
          "output_type": "execute_result",
          "data": {
            "text/plain": [
              "46"
            ]
          },
          "metadata": {
            "tags": []
          },
          "execution_count": 126
        }
      ]
    },
    {
      "cell_type": "code",
      "metadata": {
        "id": "599LN_d9hHK-",
        "colab_type": "code",
        "outputId": "3dff2935-e72e-46d0-cee4-4d170992d759",
        "colab": {
          "base_uri": "https://localhost:8080/",
          "height": 35
        }
      },
      "source": [
        "len(reg_upto)"
      ],
      "execution_count": 0,
      "outputs": [
        {
          "output_type": "execute_result",
          "data": {
            "text/plain": [
              "46"
            ]
          },
          "metadata": {
            "tags": []
          },
          "execution_count": 127
        }
      ]
    },
    {
      "cell_type": "code",
      "metadata": {
        "id": "yI6-tbD3hL0b",
        "colab_type": "code",
        "outputId": "99377c9b-b0d5-4a39-ad4a-37183254d4bb",
        "colab": {
          "base_uri": "https://localhost:8080/",
          "height": 35
        }
      },
      "source": [
        "len(reg_from)"
      ],
      "execution_count": 0,
      "outputs": [
        {
          "output_type": "execute_result",
          "data": {
            "text/plain": [
              "46"
            ]
          },
          "metadata": {
            "tags": []
          },
          "execution_count": 128
        }
      ]
    },
    {
      "cell_type": "code",
      "metadata": {
        "id": "3dTNjJ2whNk3",
        "colab_type": "code",
        "outputId": "b5fc7d15-aa98-4bf2-8d9c-bd3e2cc19a5c",
        "colab": {
          "base_uri": "https://localhost:8080/",
          "height": 35
        }
      },
      "source": [
        "len(manu)"
      ],
      "execution_count": 0,
      "outputs": [
        {
          "output_type": "execute_result",
          "data": {
            "text/plain": [
              "46"
            ]
          },
          "metadata": {
            "tags": []
          },
          "execution_count": 159
        }
      ]
    },
    {
      "cell_type": "markdown",
      "metadata": {
        "id": "voc6WZ5YA3SP",
        "colab_type": "text"
      },
      "source": [
        "# CREATING A DATAFRAME"
      ]
    },
    {
      "cell_type": "code",
      "metadata": {
        "id": "RV-37EDi-Nxy",
        "colab_type": "code",
        "colab": {}
      },
      "source": [
        "import pandas as pd\n",
        "dict1 = {'Image': image_list_dir, \"Name\": total_name,'Chesis No': chesi, 'Registration No': registration, 'Engine No':eng, 'Registration Date':reg_from, 'Manufacturing date':manu,'Expire date':reg_upto}\n",
        "df = pd.DataFrame(dict1)"
      ],
      "execution_count": 0,
      "outputs": []
    },
    {
      "cell_type": "code",
      "metadata": {
        "id": "gP0jB0pOcBqw",
        "colab_type": "code",
        "outputId": "5dbdaf30-5658-481a-df6c-d5bb89eecd98",
        "colab": {
          "base_uri": "https://localhost:8080/",
          "height": 254
        }
      },
      "source": [
        "df.info()"
      ],
      "execution_count": 0,
      "outputs": [
        {
          "output_type": "stream",
          "text": [
            "<class 'pandas.core.frame.DataFrame'>\n",
            "RangeIndex: 46 entries, 0 to 45\n",
            "Data columns (total 8 columns):\n",
            "Image                 46 non-null object\n",
            "Name                  42 non-null object\n",
            "Chesis No             38 non-null object\n",
            "Registration No       42 non-null object\n",
            "Engine No             46 non-null object\n",
            "Registration Date     46 non-null object\n",
            "Manufacturing date    40 non-null object\n",
            "Expire date           46 non-null object\n",
            "dtypes: object(8)\n",
            "memory usage: 3.0+ KB\n"
          ],
          "name": "stdout"
        }
      ]
    },
    {
      "cell_type": "markdown",
      "metadata": {
        "id": "QX9Cj-JpA7ax",
        "colab_type": "text"
      },
      "source": [
        "# MAKING THE EXCEL SHEET"
      ]
    },
    {
      "cell_type": "code",
      "metadata": {
        "id": "CctfQXKeqc0W",
        "colab_type": "code",
        "colab": {}
      },
      "source": [
        "df.to_excel('output.xlsx')"
      ],
      "execution_count": 0,
      "outputs": []
    }
  ]
}